{
 "cells": [
  {
   "cell_type": "code",
   "execution_count": 1,
   "id": "6bf3323e-6484-44fb-b9bf-c747ccf2ddac",
   "metadata": {},
   "outputs": [
    {
     "ename": "NameError",
     "evalue": "name 'BUG' is not defined",
     "output_type": "error",
     "traceback": [
      "\u001b[0;31m---------------------------------------------------------------------------\u001b[0m",
      "\u001b[0;31mNameError\u001b[0m                                 Traceback (most recent call last)",
      "Cell \u001b[0;32mIn [1], line 1\u001b[0m\n\u001b[0;32m----> 1\u001b[0m \u001b[38;5;28mprint\u001b[39m (\u001b[43mBUG\u001b[49m)\n",
      "\u001b[0;31mNameError\u001b[0m: name 'BUG' is not defined"
     ]
    }
   ],
   "source": [
    "print (BUG)"
   ]
  },
  {
   "cell_type": "code",
   "execution_count": null,
   "id": "c6e5f5e5-7980-4bf7-92fc-216e82f84ef6",
   "metadata": {},
   "outputs": [],
   "source": []
  }
 ],
 "metadata": {
  "kernelspec": {
   "display_name": "Python 3 (ipykernel)",
   "language": "python",
   "name": "python3"
  },
  "language_info": {
   "codemirror_mode": {
    "name": "ipython",
    "version": 3
   },
   "file_extension": ".py",
   "mimetype": "text/x-python",
   "name": "python",
   "nbconvert_exporter": "python",
   "pygments_lexer": "ipython3",
   "version": "3.9.13"
  }
 },
 "nbformat": 4,
 "nbformat_minor": 5
}
