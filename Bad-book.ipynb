{
 "cells": [
  {
   "cell_type": "code",
   "execution_count": 1,
   "id": "c51260f8-69cc-4322-bbfb-8476072265d5",
   "metadata": {},
   "outputs": [
    {
     "ename": "NameError",
     "evalue": "name 'mistake_' is not defined",
     "output_type": "error",
     "traceback": [
      "\u001b[0;31m---------------------------------------------------------------------------\u001b[0m",
      "\u001b[0;31mNameError\u001b[0m                                 Traceback (most recent call last)",
      "Cell \u001b[0;32mIn [1], line 1\u001b[0m\n\u001b[0;32m----> 1\u001b[0m \u001b[38;5;28mprint\u001b[39m (\u001b[43mmistake_\u001b[49m)\n",
      "\u001b[0;31mNameError\u001b[0m: name 'mistake_' is not defined"
     ]
    }
   ],
   "source": [
    "print (mistake_)\n"
   ]
  },
  {
   "cell_type": "code",
   "execution_count": null,
   "id": "82037250-b197-4ccc-a51d-78dc7660c16c",
   "metadata": {},
   "outputs": [],
   "source": []
  }
 ],
 "metadata": {
  "kernelspec": {
   "display_name": "Python 3 (ipykernel)",
   "language": "python",
   "name": "python3"
  },
  "language_info": {
   "codemirror_mode": {
    "name": "ipython",
    "version": 3
   },
   "file_extension": ".py",
   "mimetype": "text/x-python",
   "name": "python",
   "nbconvert_exporter": "python",
   "pygments_lexer": "ipython3",
   "version": "3.9.13"
  }
 },
 "nbformat": 4,
 "nbformat_minor": 5
}
